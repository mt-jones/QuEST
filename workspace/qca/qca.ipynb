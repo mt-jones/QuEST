{
 "cells": [
  {
   "cell_type": "code",
   "execution_count": null,
   "metadata": {},
   "outputs": [],
   "source": [
    "import os\n",
    "import qca\n",
    "import numpy as np\n",
    "import itertools as it\n",
    "import matplotlib.pyplot as plt\n",
    "%load_ext line_profiler"
   ]
  },
  {
   "cell_type": "code",
   "execution_count": null,
   "metadata": {},
   "outputs": [],
   "source": [
    "cmds = []\n",
    "outfiles = []\n",
    "ngpus = 8\n",
    "ics = [1, 3, 5, 6, 7, 9, 11, 15]\n",
    "rules = [10, 12]  # range(1, 33)\n",
    "nqubits = 25\n",
    "ncycles = 50\n",
    "open_boundaries = \"false\"\n",
    "gate_err = 0.0  # 2.0\n",
    "trajectories = range(1)  # range(80)\n",
    "count = 0\n",
    "for trajectory in trajectories:\n",
    "    trajectory = str(trajectory)\n",
    "    for ic in ics:\n",
    "        ic = str(ic)\n",
    "        for rule in rules:\n",
    "            gpu_id = count % ngpus\n",
    "            rule = str(rule)\n",
    "            (cmd, stdout, stderr, outfile) = qca.run.circuit.cycle(ncycles=str(ncycles),\n",
    "                                                                   nrows=\"5\",\n",
    "                                                                   ncols=\"5\",\n",
    "                                                                   rule=rule,\n",
    "                                                                   activator=\"Qurt-Hadamard\",\n",
    "                                                                   ic=ic,\n",
    "                                                                   gate_mode=\"2\",\n",
    "                                                                   open_boundaries=open_boundaries,\n",
    "                                                                   trajectory=trajectory,\n",
    "                                                                   gate_err=str(gate_err),\n",
    "                                                                   rmajor=\"true\",\n",
    "                                                                   verbose=\"false\",\n",
    "                                                                   execute=False,\n",
    "                                                                   qca_root=\"./\")\n",
    "            cmd = f\"CUDA_VISIBLE_DEVICES={gpu_id} srun {cmd} >& $SLURM_JOB_ID/{gpu_id}gpu_id.out &\"\n",
    "            if gpu_id == 0:\n",
    "                cmd = (f\"date \\n\\n\" +\n",
    "                       f\"{cmd}\")\n",
    "            if gpu_id == ngpus - 1:\n",
    "                cmd = (f\"{cmd} \\n\\n\" +\n",
    "                       f\"wait \\n\")\n",
    "            count = count + 1\n",
    "            cmds.append(cmd)\n",
    "            outfiles.append(outfile)\n",
    "\n",
    "preamble = (\"#!/usr/bin/env bash \\n\" +\n",
    "            \"#SBATCH --job-name=qca \\n\" +\n",
    "            \"#SBATCH --nodes=1 \\n\" +\n",
    "            \"#SBATCH --exclusive \\n\" +\n",
    "            \"#SBATCH --partition=bigjob \\n\" +\n",
    "            \"#SBATCH --time=10:00:00 \\n\" +\n",
    "            \"#SBATCH --export=ALL \\n\" +\n",
    "            \"#SBATCH --output=qca.out \\n\" +\n",
    "            \"#SBATCH --error=qca.err \\n\" +\n",
    "            \"mkdir $SLURM_JOB_ID \\n\\n\" +\n",
    "            \"echo \\\"hostname: $(hostname)\\\" \\n\\n\")\n",
    "postamble = (\"mv qca.out $SLURM_JOB_ID/ \\n\" +\n",
    "             \"mv qca.err $SLURM_JOB_ID/ \\n\\n\" +\n",
    "             \"date \\n\")\n",
    "with open(\"qca.sh\", \"+w\") as file:\n",
    "    file.write(preamble)\n",
    "    for cmd in cmds:\n",
    "        file.write(f\"{cmd} \\n\")\n",
    "    file.write(postamble)"
   ]
  },
  {
   "cell_type": "code",
   "execution_count": null,
   "metadata": {},
   "outputs": [],
   "source": [
    "single_qubit_files = list(it.chain.from_iterable([[outfile[0]\n",
    "                                                   for outfile in outfileset]\n",
    "                                                  for outfileset in outfiles]))\n",
    "two_qubit_files = list(it.chain.from_iterable([[outfile[1]\n",
    "                                                for outfile in outfileset]\n",
    "                                               for outfileset in outfiles]))"
   ]
  },
  {
   "cell_type": "code",
   "execution_count": null,
   "metadata": {},
   "outputs": [],
   "source": [
    "# %%time\n",
    "# single_qubit_densities = qca.read.density.qubit_densities(single_qubit_files)"
   ]
  },
  {
   "cell_type": "code",
   "execution_count": null,
   "metadata": {},
   "outputs": [],
   "source": [
    "# %%time\n",
    "# two_qubit_densities = qca.read.density.qubit_densities(two_qubit_files)"
   ]
  },
  {
   "cell_type": "code",
   "execution_count": null,
   "metadata": {},
   "outputs": [],
   "source": [
    "# count = 0\n",
    "# reshaped_single_qubit_densities = []\n",
    "# reshaped_two_qubit_densities = []\n",
    "# for trajectory in trajectories:\n",
    "#     for ic in ics:\n",
    "#         for rule in rules:\n",
    "#             for cycle in range(ncycles):\n",
    "#                 reshaped_single_qubit_densities.append((rule, ic, cycle, single_qubit_densities[count]))\n",
    "#                 reshaped_two_qubit_densities.append((rule, ic, cycle, two_qubit_densities[count]))\n",
    "#                 count = count + 1"
   ]
  },
  {
   "cell_type": "code",
   "execution_count": null,
   "metadata": {},
   "outputs": [],
   "source": [
    "# np.save(\"data/single_qubit_densities_0.00err\", reshaped_single_qubit_densities)\n",
    "# np.save(\"data/two_qubit_densities_0.00err\", reshaped_two_qubit_densities)"
   ]
  },
  {
   "cell_type": "code",
   "execution_count": null,
   "metadata": {},
   "outputs": [],
   "source": [
    "single_qubit_densities = np.load(\"data/single_qubit_densities_0.00err.npy\", allow_pickle=True)\n",
    "two_qubit_densities = np.load(\"data/two_qubit_densities_0.00err.npy\", allow_pickle=True)"
   ]
  },
  {
   "cell_type": "code",
   "execution_count": null,
   "metadata": {},
   "outputs": [],
   "source": [
    "density_index = 3\n",
    "single = [single_qubit_densities[index, density_index] for index in range(len(single_qubit_densities))]\n",
    "two = [two_qubit_densities[index, density_index] for index in range(len(two_qubit_densities))]"
   ]
  },
  {
   "cell_type": "code",
   "execution_count": null,
   "metadata": {},
   "outputs": [],
   "source": [
    "# %%time\n",
    "# entropy_order = 2\n",
    "# mutual_information = qca.read.mutual.information(single, two, entropy_order)"
   ]
  },
  {
   "cell_type": "code",
   "execution_count": null,
   "metadata": {},
   "outputs": [],
   "source": [
    "# mutual_information = [(single_qubit_densities[index, :3], mutual_information[index])\n",
    "#                       for index in range(len(single_qubit_densities))]"
   ]
  },
  {
   "cell_type": "code",
   "execution_count": null,
   "metadata": {},
   "outputs": [],
   "source": [
    "# np.save(\"data/mutual_information_0.00err\", mutual_information)"
   ]
  },
  {
   "cell_type": "code",
   "execution_count": null,
   "metadata": {},
   "outputs": [],
   "source": [
    "mutual_information = np.load(\"data/mutual_information_0.00err.npy\", allow_pickle=True)"
   ]
  },
  {
   "cell_type": "code",
   "execution_count": null,
   "metadata": {},
   "outputs": [],
   "source": [
    "tolerance = 0\n",
    "clustering = qca.read.mutual.clustering([mutual_information[index, 1]\n",
    "                                         for index in range(len(mutual_information))], tolerance)"
   ]
  },
  {
   "cell_type": "code",
   "execution_count": null,
   "metadata": {},
   "outputs": [],
   "source": [
    "nsims = len(clustering) / ncycles\n",
    "plt.figure(figsize=(8, 4));\n",
    "plt.title(\"All clustering (2d); all rules, all ics\")\n",
    "for sim in range(int(nsims)):\n",
    "    sim_rule, sim_ic, _ = list(mutual_information[int(sim*ncycles), 0])\n",
    "    sim_clustering = clustering[int(sim*ncycles):int((sim+1)*ncycles)]\n",
    "    plt.xlabel(\"cycle\");\n",
    "    plt.ylabel(\"clustering\");\n",
    "    plt.scatter(range(ncycles), sim_clustering, label=f\"rule: {sim_rule} ic: {sim_ic}\");\n",
    "# plt.savefig(\"2d_clustering_all_rules_all_ics.png\", dpi=300)"
   ]
  },
  {
   "cell_type": "code",
   "execution_count": null,
   "metadata": {},
   "outputs": [],
   "source": [
    "for sim_index in range(len(mutual_information)//ncycles):\n",
    "    print(f\"sim_index: {sim_index}\")\n",
    "    sim_rule, sim_ic, _ = list(mutual_information[int(sim_index*ncycles), 0])\n",
    "    sim_clustering = clustering[int(sim_index*ncycles):int((sim_index+1)*ncycles)]\n",
    "    plt.figure(figsize=(8, 4));\n",
    "    plt.title(f\"Clustering (2d) {sim_rule}ru {sim_ic}ic\");\n",
    "    plt.xlabel(\"cycle\");\n",
    "    plt.ylabel(\"clustering\");\n",
    "    plt.scatter(range(ncycles), sim_clustering, color=\"black\", label=f\"rule: {sim_rule} ic: {sim_ic}\");\n",
    "    plt.legend();\n",
    "    plt.show();\n",
    "    # plt.savefig(f\"2d_clustering_{sim_rule}ru_{sim_ic}ic.png\")"
   ]
  },
  {
   "cell_type": "code",
   "execution_count": null,
   "metadata": {},
   "outputs": [],
   "source": [
    "## TODO: add entropy and polarization methods to the QCA Python module\n",
    "entropy_order = 2\n",
    "def polarization(densities_list, index):\n",
    "    polarization_list = []\n",
    "    for densities in densities_list:\n",
    "        pol = qca.read.mutual.polarization(densities, index)\n",
    "        polarization_list.append(pol)\n",
    "    return polarization_list\n",
    "def _entropy(densities, alpha):\n",
    "    return [qca.read.mutual._calculate_entropy(density[1], alpha)\n",
    "            for density in densities]\n",
    "def entropy(densities_list, alpha):\n",
    "    entropy_list = []\n",
    "    for densities in densities_list:\n",
    "        ent = qca.read.mutual.entropy(densities, alpha)\n",
    "        entropy_list.append(ent)\n",
    "    return entropy_list\n",
    "\n",
    "site_polarization = np.array(polarization(single, 1))[:, :, 1]\n",
    "site_entropy = np.array(entropy(single, entropy_order))[:, :, 1]"
   ]
  },
  {
   "cell_type": "code",
   "execution_count": null,
   "metadata": {},
   "outputs": [],
   "source": [
    "site_polarization[int(sim_index*ncycles):int((sim_index+1)*ncycles)][0].shape"
   ]
  },
  {
   "cell_type": "code",
   "execution_count": null,
   "metadata": {},
   "outputs": [],
   "source": [
    "sim_index = 4  # 238, 239 are interesting\n",
    "sim_rule, sim_ic, _ = list(mutual_information[int(sim_index*ncycles), 0])\n",
    "sim_polarization = site_polarization[int(sim_index*ncycles):int((sim_index+1)*ncycles)]\n",
    "for cycle in range(ncycles):\n",
    "    plt.figure(figsize=(8, 4));\n",
    "    plt.title(f\" {sim_rule}ru {sim_ic}ic\")\n",
    "    plt.xlabel(\"qubit index\");\n",
    "    plt.xlim(-1, 25);\n",
    "    plt.ylabel(\"prob. of |1>\");\n",
    "    plt.ylim(-0.01, 1);\n",
    "    plt.scatter(range(nqubits), np.abs(sim_polarization[cycle]), color=\"black\");\n",
    "#     plt.savefig(f\"gifs/spin/Site_spin_{sim_rule}ru_{sim_ic}ic_{cycle}cycle.png\");\n",
    "    plt.show()"
   ]
  },
  {
   "cell_type": "code",
   "execution_count": null,
   "metadata": {},
   "outputs": [],
   "source": [
    "sim_index = 1  # 238, 239 are interesting\n",
    "sim_rule, sim_ic, _ = list(mutual_information[int(sim_index*ncycles), 0])\n",
    "sim_entropy = site_entropy[int(sim_index*ncycles):int((sim_index+1)*ncycles)]\n",
    "for cycle in range(ncycles):\n",
    "    plt.figure(figsize=(8, 4));\n",
    "    plt.title(f\"Site entropy {sim_rule}ru {sim_ic}ic\")\n",
    "    plt.xlabel(\"qubit index\");\n",
    "    plt.xlim(-1, 25);\n",
    "    plt.ylabel(\"entropy\");\n",
    "    plt.ylim(-0.01, 1);\n",
    "    plt.scatter(range(nqubits), np.abs(sim_entropy[cycle]), color=\"black\");\n",
    "#     plt.savefig(f\"gifs/entropy/Site_entropy_{sim_rule}ru_{sim_ic}ic_{cycle}cycle.png\");\n",
    "    plt.show()"
   ]
  },
  {
   "cell_type": "code",
   "execution_count": null,
   "metadata": {},
   "outputs": [],
   "source": []
  }
 ],
 "metadata": {
  "kernelspec": {
   "display_name": "Python 3",
   "language": "python",
   "name": "python3"
  },
  "language_info": {
   "codemirror_mode": {
    "name": "ipython",
    "version": 3
   },
   "file_extension": ".py",
   "mimetype": "text/x-python",
   "name": "python",
   "nbconvert_exporter": "python",
   "pygments_lexer": "ipython3",
   "version": "3.7.7"
  }
 },
 "nbformat": 4,
 "nbformat_minor": 4
}
