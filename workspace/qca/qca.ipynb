{
 "cells": [
  {
   "cell_type": "code",
   "execution_count": null,
   "metadata": {},
   "outputs": [],
   "source": [
    "import os\n",
    "import qca\n",
    "import uuid\n",
    "import numpy as np\n",
    "import itertools as it\n",
    "import matplotlib.pyplot as plt\n",
    "%load_ext line_profiler"
   ]
  },
  {
   "cell_type": "code",
   "execution_count": null,
   "metadata": {},
   "outputs": [],
   "source": [
    "cmds = []\n",
    "outfiles = []\n",
    "ngpus = 8\n",
    "gpus = list(range(ngpus))\n",
    "ncuda_mps_procs_per_gpu = 1\n",
    "ics = [1, 3, 5, 6, 7, 9, 11, 15]\n",
    "rules = list(range(0, 33, 2))[1:]\n",
    "nrows = 5\n",
    "ncols = 5\n",
    "nqubits = int(nrows * ncols)\n",
    "ncycles = 50\n",
    "open_boundaries = \"true\"\n",
    "gate_mode = 5\n",
    "gate_err = 0.0  # 2.0\n",
    "trajectories = range(1)  # range(80)\n",
    "rmajor = \"true\"\n",
    "verbose = \"false\"\n",
    "execute = False\n",
    "count = 0\n",
    "for trajectory in trajectories:\n",
    "    for ic in ics:\n",
    "        for rule in rules:\n",
    "            ngpus = len(gpus)\n",
    "            ncuda_mps_procs = ncuda_mps_procs_per_gpu * ngpus\n",
    "            gpu_id = gpus[int(count % ngpus)]\n",
    "            (cmd, stdout, stderr, outfile) = qca.run.circuit.cycle(\n",
    "                ncycles=str(ncycles),\n",
    "                nrows=str(nrows),\n",
    "                ncols=str(ncols),\n",
    "                rule=str(rule),\n",
    "                ic=str(ic),\n",
    "                gate_mode=str(gate_mode),\n",
    "                open_boundaries=str(open_boundaries),\n",
    "                trajectory=str(trajectory),\n",
    "                gate_err=str(gate_err),\n",
    "                rmajor=str(rmajor),\n",
    "                verbose=str(verbose),\n",
    "                execute=execute,\n",
    "                qca_root=\"./\"\n",
    "            )\n",
    "            # cmd = (f\"CUDA_VISIBLE_DEVICES={str(gpu_id)} {cmd} &> \" +\n",
    "            #        f\"${{WORKING_DIR}}/\" +\n",
    "            #        f\"{str(gpu_id)}id_{str(nqubits)}qubits_{str(nrows)}r_{str(ncols)}c_{str(rule)}ru_{str(ic)}ic.out &\")\n",
    "            cmd = (f\"CUDA_VISIBLE_DEVICES={str(gpu_id)} srun {cmd} &> \" +\n",
    "                   f\"${{WORKING_DIR}}/\" +\n",
    "                   f\"{str(gpu_id)}id_{str(nqubits)}qubits_{str(nrows)}r_{str(ncols)}c_{str(rule)}ru_{str(ic)}ic.out &\")\n",
    "            count = count + 1\n",
    "            if count % ncuda_mps_procs == 0:\n",
    "                cmd = (f\"{cmd} \\n\" +\n",
    "                       \"wait \\n\" +\n",
    "                       \"date \\n\")\n",
    "            cmds.append(cmd)\n",
    "            outfiles.append(outfile)\n",
    "\n",
    "preamble = (\"#!/usr/bin/env bash \\n\" +\n",
    "            f\"#SBATCH --job-name={str(uuid.uuid4()).split('-')[0]} \\n\" +\n",
    "            \"#SBATCH --nodes=1 \\n\" +\n",
    "            \"#SBATCH --exclusive \\n\" +\n",
    "            \"#SBATCH --partition=bigjob \\n\" +\n",
    "            \"#SBATCH --time=10:00:00 \\n\" +\n",
    "            \"#SBATCH --export=ALL \\n\" +\n",
    "            \"#SBATCH --output=%j.out \\n\" +\n",
    "            \"#SBATCH --error=%j.err \\n\" +\n",
    "            # f\"export WORKING_DIR=$(pwd)/{str(uuid.uuid4()).split('-')[0]} \\n\" +\n",
    "            \"export WORKING_DIR=${SLURM_SUBMIT_DIR}/${SLURM_JOB_ID} \\n\" +\n",
    "            \"mkdir -p ${WORKING_DIR} \\n\\n\" +\n",
    "            \"echo \\\"hostname: $(hostname)\\\" \\n\\n\" +\n",
    "            \"date \\n\")\n",
    "postamble = \"date \\n\"\n",
    "with open(\"qca.sh\", \"+w\") as file:\n",
    "    file.write(preamble)\n",
    "    for cmd in cmds:\n",
    "        file.write(f\"{cmd} \\n\")\n",
    "    file.write(postamble)"
   ]
  },
  {
   "cell_type": "code",
   "execution_count": null,
   "metadata": {},
   "outputs": [],
   "source": [
    "single_qubit_files = list(it.chain.from_iterable([[outfile[0]\n",
    "                                                   for outfile in outfileset]\n",
    "                                                  for outfileset in outfiles]))\n",
    "two_qubit_files = list(it.chain.from_iterable([[outfile[1]\n",
    "                                                for outfile in outfileset]\n",
    "                                               for outfileset in outfiles]))"
   ]
  },
  {
   "cell_type": "code",
   "execution_count": null,
   "metadata": {},
   "outputs": [],
   "source": [
    "%%time\n",
    "single_qubit_densities = qca.read.density.qubit_densities(single_qubit_files)"
   ]
  },
  {
   "cell_type": "code",
   "execution_count": null,
   "metadata": {},
   "outputs": [],
   "source": [
    "%%time\n",
    "two_qubit_densities = qca.read.density.qubit_densities(two_qubit_files)"
   ]
  },
  {
   "cell_type": "code",
   "execution_count": null,
   "metadata": {},
   "outputs": [],
   "source": [
    "count = 0\n",
    "reshaped_single_qubit_densities = []\n",
    "reshaped_two_qubit_densities = []\n",
    "for trajectory in trajectories:\n",
    "    for ic in ics:\n",
    "        for rule in rules:\n",
    "            for cycle in range(ncycles):\n",
    "                reshaped_single_qubit_densities.append((rule, ic, cycle, single_qubit_densities[count]))\n",
    "                reshaped_two_qubit_densities.append((rule, ic, cycle, two_qubit_densities[count]))\n",
    "                count = count + 1\n",
    "reshaped_single_qubit_densities = np.array(reshaped_single_qubit_densities, dtype=object)\n",
    "reshaped_two_qubit_densities = np.array(reshaped_two_qubit_densities, dtype=object)"
   ]
  },
  {
   "cell_type": "code",
   "execution_count": null,
   "metadata": {},
   "outputs": [],
   "source": [
    "np.save(\"data/single_qubit_densities_0.00err\", reshaped_single_qubit_densities)\n",
    "np.save(\"data/two_qubit_densities_0.00err\", reshaped_two_qubit_densities)"
   ]
  },
  {
   "cell_type": "code",
   "execution_count": null,
   "metadata": {},
   "outputs": [],
   "source": [
    "single_qubit_densities = np.load(\"data/single_qubit_densities_0.00err.npy\", allow_pickle=True)\n",
    "two_qubit_densities = np.load(\"data/two_qubit_densities_0.00err.npy\", allow_pickle=True)"
   ]
  },
  {
   "cell_type": "code",
   "execution_count": null,
   "metadata": {},
   "outputs": [],
   "source": [
    "density_index = 3\n",
    "single = [single_qubit_densities[index, density_index] for index in range(len(single_qubit_densities))]\n",
    "two = [two_qubit_densities[index, density_index] for index in range(len(two_qubit_densities))]"
   ]
  },
  {
   "cell_type": "code",
   "execution_count": null,
   "metadata": {},
   "outputs": [],
   "source": [
    "%%time\n",
    "entropy_order = 2\n",
    "mutual_information = qca.read.mutual.information(single, two, entropy_order)"
   ]
  },
  {
   "cell_type": "code",
   "execution_count": null,
   "metadata": {},
   "outputs": [],
   "source": [
    "mutual_information = [(single_qubit_densities[index, :3], mutual_information[index])\n",
    "                      for index in range(len(single_qubit_densities))]\n",
    "mutual_information = np.array(mutual_information, dtype=object)"
   ]
  },
  {
   "cell_type": "code",
   "execution_count": null,
   "metadata": {},
   "outputs": [],
   "source": [
    "np.save(\"data/mutual_information_0.00err\", mutual_information)"
   ]
  },
  {
   "cell_type": "code",
   "execution_count": null,
   "metadata": {},
   "outputs": [],
   "source": [
    "mutual_information = np.load(\"data/mutual_information_0.00err.npy\", allow_pickle=True)"
   ]
  },
  {
   "cell_type": "code",
   "execution_count": null,
   "metadata": {},
   "outputs": [],
   "source": [
    "tolerance = 0\n",
    "clustering = qca.read.mutual.clustering([mutual_information[index, 1]\n",
    "                                         for index in range(len(mutual_information))], tolerance)"
   ]
  },
  {
   "cell_type": "code",
   "execution_count": null,
   "metadata": {},
   "outputs": [],
   "source": [
    "nsims = len(clustering) / ncycles\n",
    "plt.figure(figsize=(16, 9));\n",
    "plt.title(\"Clustering; all rules, all ics\")\n",
    "for sim in range(int(nsims)):\n",
    "    sim_rule, sim_ic, _ = list(mutual_information[int(sim*ncycles), 0])  # simulation rule, simulation initial condition, cycle number\n",
    "    sim_clustering = clustering[int(sim*ncycles):int((sim+1)*ncycles)]\n",
    "    plt.xlabel(\"cycle\");\n",
    "    plt.xscale(\"linear\");\n",
    "    plt.xlim(0, 50);\n",
    "    plt.ylabel(\"clustering\");\n",
    "    plt.yscale(\"log\");\n",
    "    plt.ylim(1e-9, 1);\n",
    "    plt.scatter(range(ncycles), sim_clustering, label=f\"rule: {sim_rule} ic: {sim_ic}\");\n",
    "# plt.legend();\n",
    "# plt.savefig(\"2d_clustering_all_rules_all_ics.png\", dpi=300)"
   ]
  },
  {
   "cell_type": "code",
   "execution_count": null,
   "metadata": {},
   "outputs": [],
   "source": [
    "for sim_index in range(len(mutual_information)//ncycles):\n",
    "    print(f\"sim_index: {sim_index}\")\n",
    "    sim_rule, sim_ic, _ = list(mutual_information[int(sim_index*ncycles), 0])\n",
    "    sim_clustering = clustering[int(sim_index*ncycles):int((sim_index+1)*ncycles)]\n",
    "    plt.figure(figsize=(8, 4));\n",
    "    plt.title(f\"Clustering; {sim_rule}ru {sim_ic}ic\");\n",
    "    plt.xlabel(\"cycle\");\n",
    "    plt.ylabel(\"clustering\");\n",
    "    plt.scatter(range(ncycles), sim_clustering, color=\"black\", label=f\"rule: {sim_rule} ic: {sim_ic}\");\n",
    "    plt.legend();\n",
    "    # plt.savefig(f\"2d_clustering_{sim_rule}ru_{sim_ic}ic.png\")\n",
    "    plt.show();"
   ]
  },
  {
   "cell_type": "code",
   "execution_count": null,
   "metadata": {},
   "outputs": [],
   "source": [
    "## TODO: add entropy and polarization methods to the QCA Python module\n",
    "entropy_order = 2\n",
    "def polarization(densities_list, index):\n",
    "    polarization_list = []\n",
    "    for densities in densities_list:\n",
    "        pol = qca.read.mutual.polarization(densities, index)\n",
    "        polarization_list.append(pol)\n",
    "    return polarization_list\n",
    "def _entropy(densities, alpha):\n",
    "    return [qca.read.mutual._calculate_entropy(density[1], alpha)\n",
    "            for density in densities]\n",
    "def entropy(densities_list, alpha):\n",
    "    entropy_list = []\n",
    "    for densities in densities_list:\n",
    "        ent = qca.read.mutual.entropy(densities, alpha)\n",
    "        entropy_list.append(ent)\n",
    "    return entropy_list\n",
    "\n",
    "site_polarization = np.array(polarization(single, 1), dtype=object)[:, :, 1]\n",
    "site_entropy = np.array(entropy(single, entropy_order), dtype=object)[:, :, 1]"
   ]
  },
  {
   "cell_type": "code",
   "execution_count": null,
   "metadata": {},
   "outputs": [],
   "source": [
    "sim_index = 1  # 238, 239 are interesting\n",
    "sim_rule, sim_ic, _ = list(mutual_information[int(sim_index*ncycles), 0])\n",
    "sim_polarization = site_polarization[int(sim_index*ncycles):int((sim_index+1)*ncycles)]\n",
    "for cycle in range(ncycles):\n",
    "    plt.figure(figsize=(8, 4));\n",
    "    plt.title(f\" {sim_rule}ru {sim_ic}ic\")\n",
    "    plt.xlabel(\"qubit index\");\n",
    "    plt.xlim(-1, 25);\n",
    "    plt.ylabel(\"prob. of |1>\");\n",
    "    plt.ylim(-0.05, 1.05);\n",
    "    plt.scatter(range(nqubits), np.abs(sim_polarization[cycle]), color=\"black\");\n",
    "    # plt.savefig(f\"gifs/spin/Site_spin_{sim_rule}ru_{sim_ic}ic_{cycle}cycle.png\");\n",
    "    plt.show()"
   ]
  },
  {
   "cell_type": "code",
   "execution_count": null,
   "metadata": {},
   "outputs": [],
   "source": [
    "sim_index = 0  # 238, 239 are interesting\n",
    "sim_rule, sim_ic, _ = list(mutual_information[int(sim_index*ncycles), 0])\n",
    "sim_polarization = site_polarization[int(sim_index*ncycles):int((sim_index+1)*ncycles)]\n",
    "for cycle in range(ncycles):\n",
    "    plot_polarization = np.array(np.abs(sim_polarization[cycle].reshape([nrows, ncols], order=\"F\")), dtype=float)\n",
    "    plt.figure(figsize=(10, 10))\n",
    "    plt.rc(\"font\", family=\"serif\")\n",
    "    plt.rc(\"mathtext\", fontset=\"cm\")\n",
    "    plt.title(f\"Site-Local Polarization; rule {sim_rule}, ic {sim_ic}\")\n",
    "    plt.imshow(\n",
    "        plot_polarization,\n",
    "        cmap=\"hot\",\n",
    "        interpolation=\"none\",\n",
    "        extent=(0, nrows, 0, ncols),\n",
    "        aspect=\"auto\")\n",
    "    cbar = plt.colorbar()\n",
    "    plt.clim(0,1)\n",
    "    cbar.ax.set_title(r\"$ | \\langle 1 | \\psi \\rangle |^{2} $\", fontsize=16);\n",
    "    # plt.savefig(f\"gifs/spin/Site_spin_{sim_rule}ru_{sim_ic}ic_{cycle}cycle.png\");\n",
    "    plt.show()"
   ]
  },
  {
   "cell_type": "code",
   "execution_count": null,
   "metadata": {},
   "outputs": [],
   "source": [
    "sim_index = 1  # 238, 239 are interesting\n",
    "sim_rule, sim_ic, _ = list(mutual_information[int(sim_index*ncycles), 0])\n",
    "sim_entropy = site_entropy[int(sim_index*ncycles):int((sim_index+1)*ncycles)]\n",
    "for cycle in range(ncycles):\n",
    "    plt.figure(figsize=(8, 4));\n",
    "    plt.title(f\"Site entropy {sim_rule}ru {sim_ic}ic\")\n",
    "    plt.xlabel(\"qubit index\");\n",
    "    plt.xlim(-1, 25);\n",
    "    plt.ylabel(\"entropy\");\n",
    "    plt.ylim(-0.01, 1);\n",
    "    plt.scatter(range(nqubits), np.abs(sim_entropy[cycle]), color=\"black\");\n",
    "    # plt.savefig(f\"gifs/entropy/Site_entropy_{sim_rule}ru_{sim_ic}ic_{cycle}cycle.png\");\n",
    "    plt.show()"
   ]
  },
  {
   "cell_type": "code",
   "execution_count": null,
   "metadata": {},
   "outputs": [],
   "source": []
  }
 ],
 "metadata": {
  "kernelspec": {
   "display_name": "Python 3",
   "language": "python",
   "name": "python3"
  },
  "language_info": {
   "codemirror_mode": {
    "name": "ipython",
    "version": 3
   },
   "file_extension": ".py",
   "mimetype": "text/x-python",
   "name": "python",
   "nbconvert_exporter": "python",
   "pygments_lexer": "ipython3",
   "version": "3.7.9"
  }
 },
 "nbformat": 4,
 "nbformat_minor": 4
}
